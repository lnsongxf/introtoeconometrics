{
 "cells": [
  {
   "cell_type": "code",
   "execution_count": 1,
   "metadata": {
    "slideshow": {
     "slide_type": "skip"
    }
   },
   "outputs": [
    {
     "ename": "LoadError",
     "evalue": "syntax: extra token \"IPython\" after end of expression",
     "output_type": "error",
     "traceback": [
      "syntax: extra token \"IPython\" after end of expression",
      ""
     ]
    }
   ],
   "source": [
    "from IPython.display import HTML\n",
    "HTML('''<script>\n",
    "  function code_toggle() {\n",
    "    if (code_shown){\n",
    "      $('div.input').hide('500');\n",
    "      $('#toggleButton').val('Show Code')\n",
    "    } else {\n",
    "      $('div.input').show('500');\n",
    "      $('#toggleButton').val('Hide Code')\n",
    "    }\n",
    "    code_shown = !code_shown\n",
    "  }\n",
    "\n",
    "  $( document ).ready(function(){\n",
    "    code_shown=false;\n",
    "    $('div.input').hide()\n",
    "  });\n",
    "</script>\n",
    "<form action=\"javascript:code_toggle()\"><input type=\"submit\" id=\"toggleButton\" value=\"Show Code\"></form>''')"
   ]
  },
  {
   "cell_type": "code",
   "execution_count": 6,
   "metadata": {
    "scrolled": true,
    "slideshow": {
     "slide_type": "skip"
    }
   },
   "outputs": [
    {
     "ename": "LoadError",
     "evalue": "syntax: extra token \"as\" after end of expression",
     "output_type": "error",
     "traceback": [
      "syntax: extra token \"as\" after end of expression",
      ""
     ]
    }
   ],
   "source": [
    "#%matplotlib inline\n",
    "import matplotlib.pyplot as plt\n",
    "import matplotlib.mlab as mlab\n",
    "import matplotlib.patches as patches\n",
    "#plt.style.reload_library()\n",
    "#plt.style.use(\"ggplot\")\n",
    "from IPython.display import (\n",
    "    display_pretty, display_html, display_jpeg,\n",
    "    display_png, display_json, display_latex, display_svg\n",
    ")\n",
    "#from datetime import datetime, date, timedelta\n",
    "from IPython.display import Audio\n",
    "from IPython.display import YouTubeVideo\n",
    "from IPython.display import HTML\n",
    "from IPython.display import Latex\n",
    "from IPython.display import Image\n",
    "from IPython.display import display\n",
    "from IPython.display import SVG\n",
    "\n",
    "import Dates\n"
   ]
  },
  {
   "cell_type": "code",
   "execution_count": 3,
   "metadata": {
    "slideshow": {
     "slide_type": "skip"
    }
   },
   "outputs": [
    {
     "name": "stdout",
     "output_type": "stream",
     "text": [
      "\u001b[32m\u001b[1m Resolving\u001b[22m\u001b[39m package versions...\n",
      "\u001b[32m\u001b[1m  Updating\u001b[22m\u001b[39m `~/.juliapro/JuliaPro_v1.0.3.2/environments/v1.0/Project.toml`\n",
      "\u001b[90m [no changes]\u001b[39m\n",
      "\u001b[32m\u001b[1m  Updating\u001b[22m\u001b[39m `~/.juliapro/JuliaPro_v1.0.3.2/environments/v1.0/Manifest.toml`\n",
      "\u001b[90m [no changes]\u001b[39m\n",
      "\u001b[32m\u001b[1m Resolving\u001b[22m\u001b[39m package versions...\n",
      "\u001b[32m\u001b[1m  Updating\u001b[22m\u001b[39m `~/.juliapro/JuliaPro_v1.0.3.2/environments/v1.0/Project.toml`\n",
      "\u001b[90m [no changes]\u001b[39m\n",
      "\u001b[32m\u001b[1m  Updating\u001b[22m\u001b[39m `~/.juliapro/JuliaPro_v1.0.3.2/environments/v1.0/Manifest.toml`\n",
      "\u001b[90m [no changes]\u001b[39m\n",
      "\u001b[32m\u001b[1m Resolving\u001b[22m\u001b[39m package versions...\n",
      "\u001b[32m\u001b[1m  Updating\u001b[22m\u001b[39m `~/.juliapro/JuliaPro_v1.0.3.2/environments/v1.0/Project.toml`\n",
      "\u001b[90m [no changes]\u001b[39m\n",
      "\u001b[32m\u001b[1m  Updating\u001b[22m\u001b[39m `~/.juliapro/JuliaPro_v1.0.3.2/environments/v1.0/Manifest.toml`\n",
      "\u001b[90m [no changes]\u001b[39m\n",
      "\u001b[32m\u001b[1m Resolving\u001b[22m\u001b[39m package versions...\n",
      "\u001b[32m\u001b[1m  Updating\u001b[22m\u001b[39m `~/.juliapro/JuliaPro_v1.0.3.2/environments/v1.0/Project.toml`\n",
      "\u001b[90m [no changes]\u001b[39m\n",
      "\u001b[32m\u001b[1m  Updating\u001b[22m\u001b[39m `~/.juliapro/JuliaPro_v1.0.3.2/environments/v1.0/Manifest.toml`\n",
      "\u001b[90m [no changes]\u001b[39m\n"
     ]
    }
   ],
   "source": [
    "using Pkg\n",
    "Pkg.add(\"DataFrames\")\n",
    "Pkg.add(\"HTTP\")\n",
    "Pkg.add(\"CSV\")\n",
    "Pkg.add(\"GLM\")\n",
    "using DataFrames # To be able to deal with datasets\n",
    "using HTTP # To be able to request a file from a website\n",
    "using CSV # To be able to import csv files\n",
    "using Statistics # To be able to calculate statistics like 'mean'\n",
    "using GLM # To be able to run regressions"
   ]
  },
  {
   "cell_type": "markdown",
   "metadata": {
    "slideshow": {
     "slide_type": "fragment"
    }
   },
   "source": [
    "## <center>QUAN201 - Introduction to Econometrics</center>\n",
    "### <center>Extra: New Zealand Income Survey, related to Topic 7</center>\n",
    "datetoday = Dates.datetime.today().strftime(\"%m/%d/%Y\")\n",
    "### <center>datetoday</center>"
   ]
  },
  {
   "cell_type": "markdown",
   "metadata": {
    "slideshow": {
     "slide_type": "fragment"
    }
   },
   "source": [
    "## Topic 7, what we saw.\n",
    "\n",
    "- We discussed estimates of wage on gender, and on gender controlling for years of education.\n",
    "- We talked about *dummy variables*, and how to use these to estimate effect of gender.\n",
    "- We talked about interpreting the results when using dummy variables, and importance of remembering which is the *base group* (a.k.a. *reference group*).\n",
    "\n",
    "### Here,\n",
    "- This 'Notebook' shows how to use Julia (a programming language specialising in computation and data) to analyse the 'New Zealand Income Survey', repeating some examples we saw in class that were done with Stata on an older data set from US. \n",
    "- It first downloads a simulated data set that is intended as a copy of the 2011 New Zealand Income Survey. This data set is created by New Zealand Statistics, it is simulated data that is designed to have the properties of the original 2011 New Zealand Income Survey, but because it is not the original raw data there are no concerns about privacy, and so can be made publicly available for us to download at use anywhere.\n",
    "- In the following we download the data set, which contains gender and weekly income. It then shows some things like how to look at some summary statistics, setting up categorical variables, and running some basic regressions.\n",
    "\n",
    "- Disclaimer: As NZ Statistics note \"The income variable is gross weekly income from all sources, not just wages and salary. This means that if you divide income by hours you do not get hourly rates for jobs.\" In the following I will do exactly that, divide income by hours to create an 'implied hourly wage'. But I do this only for people working between 20 and 60 hours per week, and with income greater than zero, I then further exclude those with implied hourly wages less than 10NZD per hour. While this means the results are not likely to be accurate, the main point of this exercise is to demonstrate how such an analysis can be performed with Julia.\n"
   ]
  },
  {
   "cell_type": "markdown",
   "metadata": {
    "slideshow": {
     "slide_type": "fragment"
    }
   },
   "source": [
    "### Description of NZIS 2011 CART SURF\n",
    "\n",
    "The New Zealand Income Survey (NZIS) is an annual survey by NZ Stats. The NZIS 2011 CART SURF is a simulated 'copy' of the NZIS 2011, there are no privacy concerns as the data for any specific individual in the SURF is all fake, but overall the dataset still has all the same 'features' as the real data in the original NZIS 2011. \n",
    "\n",
    "This simulated data set contains 29,471 records with eight variables. The eight variables are: **sex** is either female or male; **agegrp** measures age in 5-year intervals; **ethnicity** is the ethnicity of the individual; **qualification** is highest level of education completed; **hours** is weekly hours in all wage and salary jobs; **income** is gross weekly income from all sources (in NZ dollars); **occupation** is ten different categories of occupation; **lgr** is the geographical region of which there are 12.\n",
    "\n",
    "#### For more info on the data: http://archive.stats.govt.nz/tools_and_services/microdata-access/nzis-2011-cart-surf.aspx"
   ]
  },
  {
   "cell_type": "markdown",
   "metadata": {
    "slideshow": {
     "slide_type": "slide"
    }
   },
   "source": [
    "## Getting Set Up"
   ]
  },
  {
   "cell_type": "code",
   "execution_count": 4,
   "metadata": {
    "slideshow": {
     "slide_type": "subslide"
    }
   },
   "outputs": [
    {
     "data": {
      "text/html": [
       "<table class=\"data-frame\"><thead><tr><th></th><th>variable</th><th>mean</th><th>min</th><th>median</th><th>max</th><th>nunique</th><th>nmissing</th><th>eltype</th></tr><tr><th></th><th>Symbol</th><th>Float64</th><th>Real</th><th>Float64</th><th>Real</th><th>Nothing</th><th>Int64</th><th>DataType</th></tr></thead><tbody><p>8 rows × 8 columns</p><tr><th>1</th><td>ethnicity</td><td>2.43463</td><td>1</td><td>1.0</td><td>36</td><td></td><td>0</td><td>Int64</td></tr><tr><th>2</th><td>lgr</td><td>5.55689</td><td>1</td><td>5.0</td><td>12</td><td></td><td>0</td><td>Int64</td></tr><tr><th>3</th><td>sex</td><td>1.51634</td><td>1</td><td>2.0</td><td>2</td><td></td><td>0</td><td>Int64</td></tr><tr><th>4</th><td>agegrp</td><td>41.1591</td><td>15</td><td>40.0</td><td>65</td><td></td><td>0</td><td>Int64</td></tr><tr><th>5</th><td>qualification</td><td>2.59598</td><td>1</td><td>3.0</td><td>5</td><td></td><td>0</td><td>Int64</td></tr><tr><th>6</th><td>occupation</td><td>6.04079</td><td>1</td><td>6.0</td><td>10</td><td></td><td>0</td><td>Int64</td></tr><tr><th>7</th><td>hours</td><td>19.1109</td><td>0.0</td><td>10.0</td><td>168.0</td><td></td><td>0</td><td>Float64</td></tr><tr><th>8</th><td>income</td><td>692.174</td><td>-5100</td><td>536.0</td><td>25443</td><td></td><td>0</td><td>Int64</td></tr></tbody></table>"
      ],
      "text/latex": [
       "\\begin{tabular}{r|cccccccc}\n",
       "\t& variable & mean & min & median & max & nunique & nmissing & eltype\\\\\n",
       "\t\\hline\n",
       "\t& Symbol & Float64 & Real & Float64 & Real & Nothing & Int64 & DataType\\\\\n",
       "\t\\hline\n",
       "\t1 & ethnicity & 2.43463 & 1 & 1.0 & 36 &  & 0 & Int64 \\\\\n",
       "\t2 & lgr & 5.55689 & 1 & 5.0 & 12 &  & 0 & Int64 \\\\\n",
       "\t3 & sex & 1.51634 & 1 & 2.0 & 2 &  & 0 & Int64 \\\\\n",
       "\t4 & agegrp & 41.1591 & 15 & 40.0 & 65 &  & 0 & Int64 \\\\\n",
       "\t5 & qualification & 2.59598 & 1 & 3.0 & 5 &  & 0 & Int64 \\\\\n",
       "\t6 & occupation & 6.04079 & 1 & 6.0 & 10 &  & 0 & Int64 \\\\\n",
       "\t7 & hours & 19.1109 & 0.0 & 10.0 & 168.0 &  & 0 & Float64 \\\\\n",
       "\t8 & income & 692.174 & -5100 & 536.0 & 25443 &  & 0 & Int64 \\\\\n",
       "\\end{tabular}\n"
      ],
      "text/plain": [
       "8×8 DataFrame. Omitted printing of 1 columns\n",
       "│ Row │ variable      │ mean    │ min   │ median  │ max   │ nunique │ nmissing │\n",
       "│     │ \u001b[90mSymbol\u001b[39m        │ \u001b[90mFloat64\u001b[39m │ \u001b[90mReal\u001b[39m  │ \u001b[90mFloat64\u001b[39m │ \u001b[90mReal\u001b[39m  │ \u001b[90mNothing\u001b[39m │ \u001b[90mInt64\u001b[39m    │\n",
       "├─────┼───────────────┼─────────┼───────┼─────────┼───────┼─────────┼──────────┤\n",
       "│ 1   │ ethnicity     │ 2.43463 │ 1     │ 1.0     │ 36    │         │ 0        │\n",
       "│ 2   │ lgr           │ 5.55689 │ 1     │ 5.0     │ 12    │         │ 0        │\n",
       "│ 3   │ sex           │ 1.51634 │ 1     │ 2.0     │ 2     │         │ 0        │\n",
       "│ 4   │ agegrp        │ 41.1591 │ 15    │ 40.0    │ 65    │         │ 0        │\n",
       "│ 5   │ qualification │ 2.59598 │ 1     │ 3.0     │ 5     │         │ 0        │\n",
       "│ 6   │ occupation    │ 6.04079 │ 1     │ 6.0     │ 10    │         │ 0        │\n",
       "│ 7   │ hours         │ 19.1109 │ 0.0   │ 10.0    │ 168.0 │         │ 0        │\n",
       "│ 8   │ income        │ 692.174 │ -5100 │ 536.0   │ 25443 │         │ 0        │"
      ]
     },
     "execution_count": 4,
     "metadata": {},
     "output_type": "execute_result"
    }
   ],
   "source": [
    "# First, import the 'NZ Income Survey (NZIS) 2011 CART SURF' data\n",
    "# This is a 'copy' of the NZ Income Survey of 2011; that is, \n",
    "# it is a 'simulated' dataset which has the properties of the original dataset.\n",
    "# This means that none of the individual observations is an actual New Zealander (meaning there are no \n",
    "# anonymity concerns), but taken together the observations have all the properties of the original dataset.\n",
    "# csv file downloaded from http://archive.stats.govt.nz/tools_and_services/microdata-access/nzis-2011-cart-surf.aspx\n",
    "# an excel containing the dictionary (definition of each variable), can be had from same place\n",
    "\n",
    "NZIS2011csvlink = HTTP.request(\"GET\", \"http://archive.stats.govt.nz/~/media/Statistics/services/microdata-access/nzis11-cart-surf/nzis11-cart-surf.csv?accessType=DOWNLOAD\")\n",
    "NZIS2011data = CSV.read(IOBuffer(String(NZIS2011csvlink.body)))\n",
    "\n",
    "# Now we have the date imported.\n",
    "# It contains 29,471 records with eight variables.\n",
    "# The variables are:\n",
    "# sex            1=male, 2=female  \n",
    "# agegrp         5 year bins: 15-19, 20-24,...,60-64, 65+\n",
    "# ethnicity      1=European, 2=Māori, 3=Pacific Peoples, 4=Asian, 5=Middle Eastern/Latin American/African, 6=Other Ethnicity, 9=Residual Categories. (Up to two given.)\n",
    "# qualification  1=None, 2=School, 3=Vocational/Trade, 4=Bachelor or Higher, 5=Other.\n",
    "# hours          weekly hours in all wage and salary jobs; 0 to 168 hours rounded to half hours.\n",
    "# income         gross weekly income from all sources; -5100 to 25443 New Zealand dollars rounded to whole dollars (losses are negative).\n",
    "# occupation     1=Managers, 2=Professionals, 3=Technicians and Trades Workers, 4=Community and Personal Service Workers, 5=Clerical and Administrative Workers, 6=Sales Workers, 7=Machinery Operators and Drivers, 8=Labourers, 9=Residual Categories, 10=No occupation.\n",
    "# lgr            region; 1=Northland, 2=Auckland, 3=Waikato, 4=Bay of Plenty, 5=Gisborne/Hawke's Bay, 6=Taranaki, 7=Manawatu-Wanganui, 8=Wellington, 9=Nelson/Tasman/Marlborough/West Coast, 10=Canterbury, 11=Otago, 12=Southland.\n",
    "\n",
    "# Let's look at some summary statistics of our data set\n",
    "describe(NZIS2011data)\n",
    "\n"
   ]
  },
  {
   "cell_type": "code",
   "execution_count": 6,
   "metadata": {
    "slideshow": {
     "slide_type": "fragment"
    }
   },
   "outputs": [
    {
     "data": {
      "text/plain": [
       "692.1743748091344"
      ]
     },
     "execution_count": 6,
     "metadata": {},
     "output_type": "execute_result"
    }
   ],
   "source": [
    "# Modern datasets, like Julia's dataframes, can actually handle us just giving the categorical variables their actual names (behind the scenes it then does the appropriate thing in terms of dummy variables, etc.)\n",
    "# We will do this below creating a categorical 'gender' from the current 1-or-2 valued 'sex'\n",
    "\n",
    "# Ignoring gender for a moment, let's just look at the average (weekly) income\n",
    "mean(NZIS2011data.income)"
   ]
  },
  {
   "cell_type": "code",
   "execution_count": 8,
   "metadata": {
    "slideshow": {
     "slide_type": "fragment"
    }
   },
   "outputs": [
    {
     "data": {
      "text/html": [
       "<table class=\"data-frame\"><thead><tr><th></th><th>sex</th><th>income_mean</th></tr><tr><th></th><th>Int64⍰</th><th>Float64</th></tr></thead><tbody><p>2 rows × 2 columns</p><tr><th>1</th><td>2</td><td>611.108</td></tr><tr><th>2</th><td>1</td><td>778.717</td></tr></tbody></table>"
      ],
      "text/latex": [
       "\\begin{tabular}{r|cc}\n",
       "\t& sex & income\\_mean\\\\\n",
       "\t\\hline\n",
       "\t& Int64⍰ & Float64\\\\\n",
       "\t\\hline\n",
       "\t1 & 2 & 611.108 \\\\\n",
       "\t2 & 1 & 778.717 \\\\\n",
       "\\end{tabular}\n"
      ],
      "text/plain": [
       "2×2 DataFrame\n",
       "│ Row │ sex    │ income_mean │\n",
       "│     │ \u001b[90mInt64⍰\u001b[39m │ \u001b[90mFloat64\u001b[39m     │\n",
       "├─────┼────────┼─────────────┤\n",
       "│ 1   │ 2      │ 611.108     │\n",
       "│ 2   │ 1      │ 778.717     │"
      ]
     },
     "execution_count": 8,
     "metadata": {},
     "output_type": "execute_result"
    }
   ],
   "source": [
    "# Now let's look at the average income conditional on gender\n",
    "by(NZIS2011data, :sex, :income => mean)\n",
    "# Recall, sex: 2 is female, 1 is male"
   ]
  },
  {
   "cell_type": "markdown",
   "metadata": {
    "slideshow": {
     "slide_type": "-"
    }
   },
   "source": [
    "# Warning: the following 'implicit hourly wage' is exactly what NZ Stats warn not to do with this dataset!\n",
    "\n",
    "We will do it anyway, just so we can see how to use Julia to do such an analysis, but from here on all the actual numbers should be treated as unlikely to be correct.\n"
   ]
  },
  {
   "cell_type": "code",
   "execution_count": 15,
   "metadata": {},
   "outputs": [
    {
     "data": {
      "text/html": [
       "<table class=\"data-frame\"><thead><tr><th></th><th>variable</th><th>mean</th><th>min</th><th>median</th><th>max</th><th>nunique</th><th>nmissing</th></tr><tr><th></th><th>Symbol</th><th>Union…</th><th>Any</th><th>Union…</th><th>Any</th><th>Union…</th><th>Union…</th></tr></thead><tbody><p>11 rows × 8 columns (omitted printing of 1 columns)</p><tr><th>1</th><td>ethnicity</td><td>2.34417</td><td>1</td><td>1.0</td><td>35</td><td></td><td>0</td></tr><tr><th>2</th><td>lgr</td><td>5.56503</td><td>1</td><td>5.0</td><td>12</td><td></td><td>0</td></tr><tr><th>3</th><td>sex</td><td>1.43324</td><td>1</td><td>1.0</td><td>2</td><td></td><td>0</td></tr><tr><th>4</th><td>agegrp</td><td>39.4781</td><td>15</td><td>40.0</td><td>65</td><td></td><td>0</td></tr><tr><th>5</th><td>qualification</td><td></td><td>BachelororHigher</td><td></td><td>Vocational</td><td>5</td><td></td></tr><tr><th>6</th><td>occupation</td><td>3.82332</td><td>1</td><td>3.0</td><td>10</td><td></td><td>0</td></tr><tr><th>7</th><td>hours</td><td>41.3702</td><td>30.5</td><td>40.0</td><td>59.0</td><td></td><td>0</td></tr><tr><th>8</th><td>income</td><td>1089.13</td><td>207</td><td>944.0</td><td>9610</td><td></td><td>0</td></tr><tr><th>9</th><td>wage</td><td>26.3796</td><td>5.01887</td><td>22.8229</td><td>218.238</td><td></td><td></td></tr><tr><th>10</th><td>female</td><td>0.433242</td><td>0</td><td>0.0</td><td>1</td><td></td><td></td></tr><tr><th>11</th><td>gender</td><td></td><td>female</td><td></td><td>male</td><td>2</td><td></td></tr></tbody></table>"
      ],
      "text/latex": [
       "\\begin{tabular}{r|cccccccc}\n",
       "\t& variable & mean & min & median & max & nunique & nmissing & \\\\\n",
       "\t\\hline\n",
       "\t& Symbol & Union… & Any & Union… & Any & Union… & Union… & \\\\\n",
       "\t\\hline\n",
       "\t1 & ethnicity & 2.34417 & 1 & 1.0 & 35 &  & 0 & $\\dots$ \\\\\n",
       "\t2 & lgr & 5.56503 & 1 & 5.0 & 12 &  & 0 & $\\dots$ \\\\\n",
       "\t3 & sex & 1.43324 & 1 & 1.0 & 2 &  & 0 & $\\dots$ \\\\\n",
       "\t4 & agegrp & 39.4781 & 15 & 40.0 & 65 &  & 0 & $\\dots$ \\\\\n",
       "\t5 & qualification &  & BachelororHigher &  & Vocational & 5 &  & $\\dots$ \\\\\n",
       "\t6 & occupation & 3.82332 & 1 & 3.0 & 10 &  & 0 & $\\dots$ \\\\\n",
       "\t7 & hours & 41.3702 & 30.5 & 40.0 & 59.0 &  & 0 & $\\dots$ \\\\\n",
       "\t8 & income & 1089.13 & 207 & 944.0 & 9610 &  & 0 & $\\dots$ \\\\\n",
       "\t9 & wage & 26.3796 & 5.01887 & 22.8229 & 218.238 &  &  & $\\dots$ \\\\\n",
       "\t10 & female & 0.433242 & 0 & 0.0 & 1 &  &  & $\\dots$ \\\\\n",
       "\t11 & gender &  & female &  & male & 2 &  & $\\dots$ \\\\\n",
       "\\end{tabular}\n"
      ],
      "text/plain": [
       "11×8 DataFrame. Omitted printing of 3 columns\n",
       "│ Row │ variable      │ mean     │ min              │ median  │ max        │\n",
       "│     │ \u001b[90mSymbol\u001b[39m        │ \u001b[90mUnion…\u001b[39m   │ \u001b[90mAny\u001b[39m              │ \u001b[90mUnion…\u001b[39m  │ \u001b[90mAny\u001b[39m        │\n",
       "├─────┼───────────────┼──────────┼──────────────────┼─────────┼────────────┤\n",
       "│ 1   │ ethnicity     │ 2.34417  │ 1                │ 1.0     │ 35         │\n",
       "│ 2   │ lgr           │ 5.56503  │ 1                │ 5.0     │ 12         │\n",
       "│ 3   │ sex           │ 1.43324  │ 1                │ 1.0     │ 2          │\n",
       "│ 4   │ agegrp        │ 39.4781  │ 15               │ 40.0    │ 65         │\n",
       "│ 5   │ qualification │          │ BachelororHigher │         │ Vocational │\n",
       "│ 6   │ occupation    │ 3.82332  │ 1                │ 3.0     │ 10         │\n",
       "│ 7   │ hours         │ 41.3702  │ 30.5             │ 40.0    │ 59.0       │\n",
       "│ 8   │ income        │ 1089.13  │ 207              │ 944.0   │ 9610       │\n",
       "│ 9   │ wage          │ 26.3796  │ 5.01887          │ 22.8229 │ 218.238    │\n",
       "│ 10  │ female        │ 0.433242 │ 0                │ 0.0     │ 1          │\n",
       "│ 11  │ gender        │          │ female           │         │ male       │"
      ]
     },
     "execution_count": 15,
     "metadata": {},
     "output_type": "execute_result"
    }
   ],
   "source": [
    "# We want to look at wages and the gender wage gap. So create 'hourly wage' by dividing income by hours worked.\n",
    "NZIS2011data[:wage]=map((income,hours) -> income/hours, NZIS2011data[:income],NZIS2011data[:hours])\n",
    "# In the hope of making this 'implicit hourly wage' reasonable:\n",
    "# Let's also just look at people working more than 30 hours, and less than 60 hours. \n",
    "# And who have an implied hourly wage of at least $5. \n",
    "\n",
    "# We can do this by restricting the dataset.\n",
    "# People who don't meet these restriction likely have unreliable 'implied hourly wage'\n",
    "NZIS2011data = NZIS2011data[NZIS2011data[:hours] .> 30, :] # Impose restriction on dataset that hours>30\n",
    "NZIS2011data = NZIS2011data[NZIS2011data[:hours] .< 60, :]\n",
    "NZIS2011data = NZIS2011data[NZIS2011data[:wage] .>= 5, :] # Assume anyone with implied hourly wage $5 is some kind of error in data\n",
    "\n",
    "describe(NZIS2011data)"
   ]
  },
  {
   "cell_type": "code",
   "execution_count": 17,
   "metadata": {},
   "outputs": [
    {
     "data": {
      "text/html": [
       "<table class=\"data-frame\"><thead><tr><th></th><th>sex</th><th>wage_mean</th></tr><tr><th></th><th>Int64⍰</th><th>Float64</th></tr></thead><tbody><p>2 rows × 2 columns</p><tr><th>1</th><td>2</td><td>26.0653</td></tr><tr><th>2</th><td>1</td><td>26.6198</td></tr></tbody></table>"
      ],
      "text/latex": [
       "\\begin{tabular}{r|cc}\n",
       "\t& sex & wage\\_mean\\\\\n",
       "\t\\hline\n",
       "\t& Int64⍰ & Float64\\\\\n",
       "\t\\hline\n",
       "\t1 & 2 & 26.0653 \\\\\n",
       "\t2 & 1 & 26.6198 \\\\\n",
       "\\end{tabular}\n"
      ],
      "text/plain": [
       "2×2 DataFrame\n",
       "│ Row │ sex    │ wage_mean │\n",
       "│     │ \u001b[90mInt64⍰\u001b[39m │ \u001b[90mFloat64\u001b[39m   │\n",
       "├─────┼────────┼───────────┤\n",
       "│ 1   │ 2      │ 26.0653   │\n",
       "│ 2   │ 1      │ 26.6198   │"
      ]
     },
     "execution_count": 17,
     "metadata": {},
     "output_type": "execute_result"
    }
   ],
   "source": [
    "by(NZIS2011data, :sex, :wage => mean)"
   ]
  },
  {
   "cell_type": "markdown",
   "metadata": {},
   "source": [
    "### Recall from Lecture Slides\n",
    "- The effect of being female on wage can be expressed as follows,\n",
    "$$ wage = \\beta_0 + \\beta_1 female + u $$\n",
    "\n",
    "- $\\beta_1$ captures the effect of being female on wage."
   ]
  },
  {
   "cell_type": "code",
   "execution_count": 31,
   "metadata": {},
   "outputs": [
    {
     "data": {
      "text/plain": [
       "StatsModels.DataFrameRegressionModel{LinearModel{LmResp{Array{Float64,1}},DensePredChol{Float64,LinearAlgebra.Cholesky{Float64,Array{Float64,2}}}},Array{Float64,2}}\n",
       "\n",
       "Formula: wage ~ 1 + female\n",
       "\n",
       "Coefficients:\n",
       "──────────────────────────────────────────────────────\n",
       "              Estimate  Std.Error    t value  Pr(>|t|)\n",
       "──────────────────────────────────────────────────────\n",
       "(Intercept)  26.6198     0.181932  146.318      <1e-99\n",
       "female       -0.554553   0.276403   -2.00632    0.0448\n",
       "──────────────────────────────────────────────────────"
      ]
     },
     "execution_count": 31,
     "metadata": {},
     "output_type": "execute_result"
    }
   ],
   "source": [
    "# Run the regression: wage=beta0+beta1*female+u\n",
    "# Two options for how to set this up:\n",
    "# First, create a dummy variable for female, and then run regression\n",
    "NZIS2011data[:female]=map(sex -> sex-1, NZIS2011data[:sex])\n",
    "lm(@formula(wage ~ female), NZIS2011data)\n",
    "\n",
    "### Test yourself: what would go wrong if we regress income ~ sex?"
   ]
  },
  {
   "cell_type": "code",
   "execution_count": 30,
   "metadata": {
    "scrolled": true
   },
   "outputs": [
    {
     "data": {
      "text/plain": [
       "StatsModels.DataFrameRegressionModel{LinearModel{LmResp{Array{Float64,1}},DensePredChol{Float64,LinearAlgebra.Cholesky{Float64,Array{Float64,2}}}},Array{Float64,2}}\n",
       "\n",
       "Formula: wage ~ 1 + gender\n",
       "\n",
       "Coefficients:\n",
       "───────────────────────────────────────────────────────\n",
       "               Estimate  Std.Error    t value  Pr(>|t|)\n",
       "───────────────────────────────────────────────────────\n",
       "(Intercept)   26.0653     0.208086  125.262      <1e-99\n",
       "gender: male   0.554553   0.276403    2.00632    0.0448\n",
       "───────────────────────────────────────────────────────"
      ]
     },
     "execution_count": 30,
     "metadata": {},
     "output_type": "execute_result"
    }
   ],
   "source": [
    "# Second, create a categorical variable for gender, instead of a number that is interpreted as a category, and just use this directly.\n",
    "myDict=[\"male\",\"female\"] # This is a 'dictionary' that tells us 1 is male and 2 is female\n",
    "NZIS2011data[:gender]=map(akey->myDict[akey], NZIS2011data[:sex])\n",
    "lm(@formula(wage ~ gender), NZIS2011data)\n",
    "# Remark: notice that regression results are telling you that they have used a dummy for male, \n",
    "#         rather than female.\n",
    "\n",
    "### Test yourself: What is the advantage of using the regression of wage on female (or male), \n",
    "###                rather than the average income conditional on gender that we got using the by() command?"
   ]
  },
  {
   "cell_type": "code",
   "execution_count": 32,
   "metadata": {},
   "outputs": [
    {
     "data": {
      "text/plain": [
       "StatsModels.DataFrameRegressionModel{GeneralizedLinearModel{GlmResp{Array{Float64,1},Normal{Float64},IdentityLink},DensePredChol{Float64,LinearAlgebra.Cholesky{Float64,Array{Float64,2}}}},Array{Float64,2}}\n",
       "\n",
       "Formula: wage ~ 1 + female\n",
       "\n",
       "Coefficients:\n",
       "──────────────────────────────────────────────────────\n",
       "              Estimate  Std.Error    z value  Pr(>|z|)\n",
       "──────────────────────────────────────────────────────\n",
       "(Intercept)  26.6198     0.181932  146.318      <1e-99\n",
       "female       -0.554553   0.276403   -2.00632    0.0448\n",
       "──────────────────────────────────────────────────────"
      ]
     },
     "execution_count": 32,
     "metadata": {},
     "output_type": "execute_result"
    }
   ],
   "source": [
    "# More advanced way to do exactly the same regression is\n",
    "glm(@formula(wage ~ female), NZIS2011data, Normal(), IdentityLink())\n",
    "# glm allows you to easily switch to logit, probit, etc. by changing the Normal() and IdentityLink().\n",
    "# These are alternative regression models that we will not see in this course, but are common in more advanced courses.\n",
    "\n",
    "# lm: 'linear regression model'\n",
    "# glm: 'generalized linear regression model'"
   ]
  },
  {
   "cell_type": "code",
   "execution_count": 40,
   "metadata": {},
   "outputs": [
    {
     "data": {
      "text/plain": [
       "StatsModels.DataFrameRegressionModel{LinearModel{LmResp{Array{Float64,1}},DensePredChol{Float64,LinearAlgebra.Cholesky{Float64,Array{Float64,2}}}},Array{Float64,2}}\n",
       "\n",
       "Formula: lwage ~ 1 + female\n",
       "\n",
       "Coefficients:\n",
       "──────────────────────────────────────────────────────────\n",
       "                Estimate   Std.Error     t value  Pr(>|t|)\n",
       "──────────────────────────────────────────────────────────\n",
       "(Intercept)   3.17001     0.00548976  577.441       <1e-99\n",
       "female       -0.00161352  0.00834042   -0.193458    0.8466\n",
       "──────────────────────────────────────────────────────────"
      ]
     },
     "execution_count": 40,
     "metadata": {},
     "output_type": "execute_result"
    }
   ],
   "source": [
    "# We might also decide that it makes more sense to use log of wage.\n",
    "NZIS2011data[:lwage]=map(wage->log(wage), NZIS2011data[:wage])\n",
    "lm(@formula(lwage ~ female), NZIS2011data)"
   ]
  },
  {
   "cell_type": "markdown",
   "metadata": {},
   "source": [
    "### Recall from Lecture Slides\n",
    "We next looked at the gender wage gap controlling for education level.\n",
    "\n",
    "This was done running the regression,\n",
    "$$ wage=\\beta_0+\\beta_1*female+educ+u $$"
   ]
  },
  {
   "cell_type": "code",
   "execution_count": 41,
   "metadata": {
    "scrolled": true,
    "slideshow": {
     "slide_type": "subslide"
    }
   },
   "outputs": [
    {
     "ename": "ArgumentError",
     "evalue": "ArgumentError: invalid index: BachelororHigher of type String",
     "output_type": "error",
     "traceback": [
      "ArgumentError: invalid index: BachelororHigher of type String",
      "",
      "Stacktrace:",
      " [1] to_index(::String) at ./indices.jl:266",
      " [2] to_index(::Array{String,1}, ::String) at ./indices.jl:247",
      " [3] to_indices at ./indices.jl:294 [inlined]",
      " [4] to_indices at ./indices.jl:291 [inlined]",
      " [5] getindex(::Array{String,1}, ::String) at ./abstractarray.jl:905",
      " [6] (::getfield(Main, Symbol(\"##47#48\")))(::String) at ./In[41]:6",
      " [7] iterate at ./generator.jl:47 [inlined]",
      " [8] _collect(::Array{String,1}, ::Base.Generator{Array{String,1},getfield(Main, Symbol(\"##47#48\"))}, ::Base.EltypeUnknown, ::Base.HasShape{1}) at ./array.jl:632",
      " [9] collect_similar(::Array{String,1}, ::Base.Generator{Array{String,1},getfield(Main, Symbol(\"##47#48\"))}) at ./array.jl:561",
      " [10] map(::Function, ::Array{String,1}) at ./abstractarray.jl:1987",
      " [11] top-level scope at In[41]:6"
     ]
    }
   ],
   "source": [
    "# Run the regression: wage=beta0+beta1*female+educ+u\n",
    "# Unlike the example from class slides we don't have a continuous variable for education (in slides it was \n",
    "# number of years), so instead we will set qualification as a categorical value and use that.\n",
    "# qualification  1=None, 2=School, 3=Vocational/Trade, 4=Bachelor or Higher, 5=Other.\n",
    "myDict=[\"None\", \"School\", \"Vocational\", \"BachelororHigher\", \"Other\"]\n",
    "NZIS2011data[:qualification]=map(akey->myDict[akey], NZIS2011data[:qualification])\n",
    "glm(@formula(wage ~ gender+qualification), NZIS2011data, Normal(), IdentityLink())\n",
    "\n",
    "# Note: just use categorical 'gender', so Julia is choosing how to create the \n",
    "# dummy, and has set a dummy for male rather than female\n",
    "\n",
    "### Test yourself: Which qualification level has been used as the Base (aka Reference) group?"
   ]
  },
  {
   "cell_type": "code",
   "execution_count": 42,
   "metadata": {},
   "outputs": [
    {
     "data": {
      "text/plain": [
       "StatsModels.DataFrameRegressionModel{GeneralizedLinearModel{GlmResp{Array{Float64,1},Normal{Float64},IdentityLink},DensePredChol{Float64,LinearAlgebra.Cholesky{Float64,Array{Float64,2}}}},Array{Float64,2}}\n",
       "\n",
       "Formula: wage ~ 1 + gender + qualification + gender & qualification\n",
       "\n",
       "Coefficients:\n",
       "─────────────────────────────────────────────────────────────────────────────────\n",
       "                                          Estimate  Std.Error   z value  Pr(>|z|)\n",
       "─────────────────────────────────────────────────────────────────────────────────\n",
       "(Intercept)                               29.5328    0.394895  74.7865     <1e-99\n",
       "gender: male                               2.34006   0.560343   4.17612    <1e-4 \n",
       "qualification: None                       -5.31      0.634895  -8.36359    <1e-16\n",
       "qualification: Other                      -2.39028   0.910911  -2.62406    0.0087\n",
       "qualification: School                     -5.8712    0.591414  -9.9274     <1e-22\n",
       "qualification: Vocational                 -4.0571    0.551472  -7.35685    <1e-12\n",
       "gender: male & qualification: None        -1.60292   0.858859  -1.86633    0.0620\n",
       "gender: male & qualification: Other       -1.82427   1.21371   -1.50306    0.1328\n",
       "gender: male & qualification: School      -1.9208    0.814712  -2.35765    0.0184\n",
       "gender: male & qualification: Vocational  -2.09883   0.745199  -2.81648    0.0049\n",
       "─────────────────────────────────────────────────────────────────────────────────"
      ]
     },
     "execution_count": 42,
     "metadata": {},
     "output_type": "execute_result"
    }
   ],
   "source": [
    "# Run the regression: wage=beta0+beta1*female+educ+female*educ+u\n",
    "glm(@formula(wage ~ gender+qualification+gender*qualification), NZIS2011data, Normal(), IdentityLink())\n",
    "\n",
    "# Note: we did not need to 'pre-create' the gender-qualification interaction term as a variable, \n",
    "# we were able to simply include it in the regression equation."
   ]
  },
  {
   "cell_type": "markdown",
   "metadata": {
    "slideshow": {
     "slide_type": "-"
    }
   },
   "source": [
    "## A reminder to finish that we used an 'implied hourly wage' that was precisely what NZ Stats warned us not to do. So do not interpret the resulting numbers too seriously. This exercise is simply to show how this kind of analysis can nowadays be performed in a fully open and online manner."
   ]
  }
 ],
 "metadata": {
  "celltoolbar": "Slideshow",
  "kernelspec": {
   "display_name": "Julia 1.0.3",
   "language": "julia",
   "name": "julia-1.0"
  },
  "language_info": {
   "file_extension": ".jl",
   "mimetype": "application/julia",
   "name": "julia",
   "version": "1.0.3"
  }
 },
 "nbformat": 4,
 "nbformat_minor": 1
}
