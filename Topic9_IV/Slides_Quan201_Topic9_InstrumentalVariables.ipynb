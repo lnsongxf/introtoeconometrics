{
 "cells": [
  {
   "cell_type": "code",
   "execution_count": 1,
   "metadata": {
    "slideshow": {
     "slide_type": "skip"
    }
   },
   "outputs": [
    {
     "ename": "LoadError",
     "evalue": "syntax: extra token \"IPython\" after end of expression",
     "output_type": "error",
     "traceback": [
      "syntax: extra token \"IPython\" after end of expression",
      ""
     ]
    }
   ],
   "source": [
    "from IPython.display import HTML\n",
    "HTML('''<script>\n",
    "  function code_toggle() {\n",
    "    if (code_shown){\n",
    "      $('div.input').hide('500');\n",
    "      $('#toggleButton').val('Show Code')\n",
    "    } else {\n",
    "      $('div.input').show('500');\n",
    "      $('#toggleButton').val('Hide Code')\n",
    "    }\n",
    "    code_shown = !code_shown\n",
    "  }\n",
    "\n",
    "  $( document ).ready(function(){\n",
    "    code_shown=false;\n",
    "    $('div.input').hide()\n",
    "  });\n",
    "</script>\n",
    "<form action=\"javascript:code_toggle()\"><input type=\"submit\" id=\"toggleButton\" value=\"Show Code\"></form>''')"
   ]
  },
  {
   "cell_type": "code",
   "execution_count": 6,
   "metadata": {
    "scrolled": true,
    "slideshow": {
     "slide_type": "skip"
    }
   },
   "outputs": [
    {
     "ename": "LoadError",
     "evalue": "syntax: extra token \"as\" after end of expression",
     "output_type": "error",
     "traceback": [
      "syntax: extra token \"as\" after end of expression",
      ""
     ]
    }
   ],
   "source": [
    "#%matplotlib inline\n",
    "import matplotlib.pyplot as plt\n",
    "import matplotlib.mlab as mlab\n",
    "import matplotlib.patches as patches\n",
    "#plt.style.reload_library()\n",
    "#plt.style.use(\"ggplot\")\n",
    "from IPython.display import (\n",
    "    display_pretty, display_html, display_jpeg,\n",
    "    display_png, display_json, display_latex, display_svg\n",
    ")\n",
    "#import numpy as np\n",
    "#import pandas as pd\n",
    "#from pandas_datareader import data, wb\n",
    "#from scipy import linalg, optimize\n",
    "#from datetime import datetime, date, timedelta\n",
    "from IPython.display import Audio\n",
    "from IPython.display import YouTubeVideo\n",
    "from IPython.display import HTML\n",
    "from IPython.display import Latex\n",
    "from IPython.display import Image\n",
    "from IPython.display import display\n",
    "from IPython.display import SVG\n",
    "\n",
    "import Dates\n"
   ]
  },
  {
   "cell_type": "markdown",
   "metadata": {
    "slideshow": {
     "slide_type": "slide"
    }
   },
   "source": [
    "## <center>QUAN201 - Introduction to Econometrics</center>\n",
    "### <center>Topic 9: Instrumental Variable Estimation</center>\n",
    "datetoday = Dates.datetime.today().strftime(\"%m/%d/%Y\")\n",
    "### <center>datetoday</center>"
   ]
  },
  {
   "cell_type": "markdown",
   "metadata": {
    "slideshow": {
     "slide_type": "slide"
    }
   },
   "source": [
    "## Instrumental Variables\n",
    "- In practice, we rarely expect Assumption MLR.4 to hold for OLS.\n",
    "- Problem of **endogeneity**: possible causes *selection bias*, *reverse causality*, *measurement error*, and many others.\n",
    "- Instrumental Variables can solve failures of MLR.4. (sometimes)\n",
    "\n",
    "Reference: Angrist and Pischke, Chapter 3,  Wooldridge 15.1-15.2"
   ]
  },
  {
   "cell_type": "markdown",
   "metadata": {
    "slideshow": {
     "slide_type": "slide"
    }
   },
   "source": [
    "### Achievement Gap\n",
    "\n",
    "<center><img src='Material/Topic9_Fig1.png' width='600' height='80'/></center>\n"
   ]
  },
  {
   "cell_type": "markdown",
   "metadata": {
    "slideshow": {
     "slide_type": "slide"
    }
   },
   "source": [
    "### Problem\n",
    "\n",
    "- Black and Hispanic students score much lower on standardized tests compared to White and Asian students. \n",
    "\n",
    "- One potential reasons for this:\n",
    " - Poor school quality in areas with large Black and Hispanic student population. \n",
    "\n",
    "\n"
   ]
  },
  {
   "cell_type": "markdown",
   "metadata": {
    "slideshow": {
     "slide_type": "slide"
    }
   },
   "source": [
    "### Are charter schools a solution?\n",
    "\n",
    "- Charter schools: publicly funded, independently operated schools.\n",
    "\n",
    "- Example: KIPP (Knowledge is Power Program) schools\n",
    " - 88% students qualify for free lunch\n",
    " - 95% students are Black or Hispanic\n",
    "\n",
    "<right><img src='Material/Topic9_Fig2.png' width='200' height='60'/></right>"
   ]
  },
  {
   "cell_type": "markdown",
   "metadata": {
    "slideshow": {
     "slide_type": "slide"
    }
   },
   "source": [
    "### Treatment or Selection?\n",
    "\n",
    "- Minority students who go to KIPP schools score higher on standardized tests than minority students in public schools. But: \n",
    "\n",
    "- Is this a causal effect of KIPP schools? (**Treatment effect**)\n",
    "\n",
    "- Or is this because KIPP attracts different type of students (e.g. more intelligent, more motivated)? (**Selection bias**)\n"
   ]
  },
  {
   "cell_type": "markdown",
   "metadata": {
    "slideshow": {
     "slide_type": "slide"
    }
   },
   "source": [
    "### Model\n",
    "\n",
    "$$ \\text{Standarized test score} = \\beta_0 + \\beta_1 \\text{KIPP attendance} + u $$\n",
    "\n",
    "- **Problem**: KIPP attendance might be **endogenous**. Why? Students who attend KIPP might be more motivated, intelligent, ambitious, have more engaged parents, etc."
   ]
  },
  {
   "cell_type": "markdown",
   "metadata": {
    "slideshow": {
     "slide_type": "slide"
    }
   },
   "source": [
    "#### KIPP school in Lynn, MA was oversupscribed and offered seats with a random lottery.\n",
    "\n",
    "<center><img src='Material/Topic9_Fig3.png' width='600' height='80'/></center>"
   ]
  },
  {
   "cell_type": "markdown",
   "metadata": {
    "slideshow": {
     "slide_type": "slide"
    }
   },
   "source": [
    "- Offers were randomly assigned. Can we treat this as a *randomized experiment*?\n",
    "\n",
    "- Yes, we can estimate the causal effect of *receiving an offer*.\n",
    "\n",
    "Note: Table 3.1 shows the **standardized** test score (mean = 0, SD = 1) in Math and Verbal.  \n",
    "Standardizing is done by subtracting the mean and dividing by the standard deviation for each test score.  \n",
    "This makes variables more easy to interpret:  \n",
    " A test score of 0 = mean score in the population  \n",
    " A test score of 1 = 1 SD above the mean \n"
   ]
  },
  {
   "cell_type": "markdown",
   "metadata": {
    "slideshow": {
     "slide_type": "slide"
    }
   },
   "source": [
    "<center><img src='Material/Topic9_Fig4.png' width='600' height='80'/></center>"
   ]
  },
  {
   "cell_type": "markdown",
   "metadata": {
    "slideshow": {
     "slide_type": "slide"
    }
   },
   "source": [
    "<center><img src='Material/Topic9_Fig5.png' width='600' height='80'/></center>\n",
    "- But, only 73% student accepted the offer. Can we say something about the affect of \n",
    "attending KIPP Lynn? \n",
    "- Do you the effect of attending KIPP Lynn will be larger or smaller than the effect of the\n",
    "receiving the offer?"
   ]
  },
  {
   "cell_type": "markdown",
   "metadata": {
    "slideshow": {
     "slide_type": "slide"
    }
   },
   "source": [
    "### From Offer to Attendance, intuition\n",
    "<center><img src='Material/Topic9_Fig6.png' width='600' height='80'/></center>\n",
    "\n",
    "- IV estimate of causal effect is equal to the reduced form effect of the instrument, scaled up by the first stage.\n",
    "$$ \\hat{\\beta}_IV = \\frac{\\hat{\\beta}_{RF}}{\\hat{\\beta}_{FS}} $$"
   ]
  },
  {
   "cell_type": "markdown",
   "metadata": {
    "slideshow": {
     "slide_type": "slide"
    }
   },
   "source": [
    "### Clicker question\n",
    "\n",
    "What is the IV estimate of the effect of attending KIPP Lynn on Verbal score?\n",
    "\n",
    "A) 0.15  \n",
    "B) 0.48  \n",
    "C) 0.61  \n",
    "D) Can’t say  "
   ]
  },
  {
   "cell_type": "markdown",
   "metadata": {
    "slideshow": {
     "slide_type": "slide"
    }
   },
   "source": [
    "## IV in a simple regression framework\n",
    "\n",
    "Consider this econometric model\n",
    "$$ y=\\beta_0 + \\beta_1 x + u $$\n",
    "We suspect that x and u are correlated, i.e. x is endogenous.\n",
    "$$ Cov(x,u) \\neq 0 $$\n",
    "In this case OLS would lead to biased and inconsistent estimates of $\\beta_1$.  \n",
    "The good news is that we can still get a consistent estimate of $\\beta_1$ if we have a suitable instrumental variable."
   ]
  },
  {
   "cell_type": "markdown",
   "metadata": {
    "slideshow": {
     "slide_type": "slide"
    }
   },
   "source": [
    "## IV Assumptions\n",
    "\n",
    "In order to get consistent estimates of we need a variable $z$ that needs to fulfill the following conditions.\n",
    "\n",
    "**Instrument relevance**: $Cov(z,x) \\neq 0 $\n",
    "z should be correlated with X.\n",
    "\n",
    "**Instrument exogeneity**: $Cov(z,u) = 0 $. \n",
    "z should *not* be correlated with the error term.\n",
    "\n",
    " <center><img src='Material/Topic9_Fig7.png' width='200' height='40'/></center>"
   ]
  },
  {
   "cell_type": "markdown",
   "metadata": {
    "slideshow": {
     "slide_type": "slide"
    }
   },
   "source": [
    "### IV Assumptions in the KIPP Example\n",
    "\n",
    "$$ \\text{Standarized test score} = \\beta_0 + \\beta_1 \\text{KIPP attendance} + u $$\n",
    "\n",
    "- KIPP attendance might be endogenous\n",
    "\n",
    "- The instrument $z$ is the lottery status (win or lose).\n",
    "\n",
    "- Does the relevance assumption ($Cov(z,x) \\neq 0$) hold?  \n",
    "Is lottery status correlated with KIPP attendance? Cov(lottery, attendance) $\\neq 0$?\n",
    "\n",
    "- Does the exogeneity assumption (Cov(z,u) $= 0$) hold?   \n",
    "Is the lottery status correlated with other factors that influence test score (u)? Cov(lottery, u) $= 0$?"
   ]
  },
  {
   "cell_type": "markdown",
   "metadata": {
    "slideshow": {
     "slide_type": "slide"
    }
   },
   "source": [
    "## Testing the IV relevance assumption\n",
    "\n",
    "Recall from Chapter 2 that the slope estimator of a simple regression is $\\hat{\\beta}_1=\\frac{Cov(x,y)}{Var(x)}$.\n",
    "\n",
    "To test whether $Cov(z,x) \\neq 0$ in the population we simply regress $x$ on $z$ in the sample.  \n",
    "If the coefficient is significantly different from zero we conclude that the relevance assumption holds.\n",
    "\n",
    "In the KIPP example, we would run the following regression:\n",
    "$$ \\widehat{attendance} = \\hat{\\beta_0} + \\hat{\\beta}_FS lottery $$\n",
    "\n",
    "If $\\hat{\\beta}_{FS}$ is significantly different from zero, we conclude that the relevance assumption holds."
   ]
  },
  {
   "cell_type": "markdown",
   "metadata": {
    "slideshow": {
     "slide_type": "slide"
    }
   },
   "source": [
    "## Testing the IV exogeneity assumption\n",
    "\n",
    "- We cannot test the instrument exogeneity assumption $Cov(z,u) = 0$, because the error term $u$ is unobserved. \n",
    "- We have to argue that this is the case.\n",
    "\n",
    "- In the KIPP example, it is straightforward that if the lottery was **random** the lottery status ($z$) should be uncorrelated with all other factors that influence test score ($u$).\n"
   ]
  },
  {
   "cell_type": "markdown",
   "metadata": {
    "slideshow": {
     "slide_type": "slide"
    }
   },
   "source": [
    "## From assumptions to the IV estimator\n",
    "\n",
    "**instrument relevance** $Cov(x,z) \\neq 0$  \n",
    "**instrument exogeneity** $Cov(z,u) = 0$\n",
    "\n",
    "Begin by studying the covariance between $z$ and $y$:\n",
    "$$ Cov(z,y)= Cov(z,\\beta_0+\\beta_1 x+u) $$\n",
    "$$ Cov(z,y)= Cov(z,\\beta_0)+ Cov(z,\\beta_1 x) + Cov(z,u) $$\n",
    "$$ Cov(z,y)= 0 + \\beta_1 Cov(z,x) + Cov(z,u) $$\n",
    "\n",
    "Under the IV assumptions (above), we can solve for $\\beta_1$,\n",
    "$$ \\beta_1 = \\frac{Cov(z,y)}{Cov(z,x)} $$\n",
    "\n",
    " <center><img src='Material/Topic9_Fig8.png' width='200' height='40'/></center>"
   ]
  },
  {
   "cell_type": "markdown",
   "metadata": {
    "slideshow": {
     "slide_type": "slide"
    }
   },
   "source": [
    "### From population to sample\n",
    "\n",
    "$$ \\beta_1 = \\frac{Cov(z,y)}{Cov(z,x)} $$\n",
    "\n",
    "Given a random sample, we can **estimate** $\\beta_1$:\n",
    "$$ \\hat{\\beta}_1= \\frac{\\sum_{i=1}^{n} (z_i-\\bar{z})(y_i-\\bar{y})}{\\sum_{i=1}^{n} (z_i-\\bar{z})(x_i-\\bar{x})} $$ \n",
    "\n",
    "<center><img src='Material/Topic9_Fig9.png' width='200' height='40'/></center>\n",
    "\n",
    "This is the **instrumental variables (IV) estimator** of $\\beta_1$.\n"
   ]
  },
  {
   "cell_type": "markdown",
   "metadata": {
    "slideshow": {
     "slide_type": "slide"
    }
   },
   "source": [
    "### IV = RF/FS\n",
    "\n",
    "Recall that: $$ \\hat{\\beta}_{IV} = \\frac{\\hat{\\beta}_{RF}}{\\hat{\\beta}_{FS}} $$\n",
    "\n",
    "- We know that $\\hat{\\beta}_{RF} = \\frac{Cov(y,z)}{Var(z)} $ and $\\hat{\\beta}_{FS} = \\frac{Cov(x,z)}{Var(z)} $\n",
    "\n",
    "- Plugging these into the equation above, it is straightforward to see that:\n",
    "$$ \\hat{\\beta}_{IV} = \\frac{\\frac{Cov(y,z)}{Var(z)}}{\\frac{Cov(x,z)}{Var(z)}} = \\frac{Cov(y,z)}{Cov(x,z)} $$"
   ]
  },
  {
   "cell_type": "markdown",
   "metadata": {
    "slideshow": {
     "slide_type": "slide"
    }
   },
   "source": [
    "## IV Variance\n",
    "\n",
    "- The (asymptotic) variance of $\\hat{\\beta}_{IV}$ in the case with one endogenous variable and one instrument:\n",
    "$$ \\frac{\\sigma^2}{SST_x * R^2_{x,z}} $$\n",
    "where is the R-squared of a regression of $x$ on $z$.  \n",
    "- Recall the variance of a simple OLS estimator:\n",
    "$$ \\frac{\\sigma^2}{SST_x} $$\n",
    "- Since $R^2_{x,z}< 1$, IV variance will be larger than OLS variance. A stronger first stage implies a larger $R^2_{x,z}$ which leads to a smaller variance. "
   ]
  },
  {
   "cell_type": "markdown",
   "metadata": {
    "slideshow": {
     "slide_type": "slide"
    }
   },
   "source": [
    "## IV estimation in the regression framework\n",
    "\n",
    "- The Two-stage least squares (2SLS) generalizes the IV estimate in a regression framework.\n",
    "- Advantages:\n",
    " - We can add control variables\n",
    " - We can use multiple instruments\n",
    " - We can easily implement it in Stata which automatically estimates correct standard errors\n",
    "\n"
   ]
  },
  {
   "cell_type": "markdown",
   "metadata": {
    "slideshow": {
     "slide_type": "slide"
    }
   },
   "source": [
    "## 2SLS IV approach\n",
    "\n",
    "Consider the econometric model\n",
    "$$ y = \\beta_0 + \\beta_1 x + \\beta_2 c + u $$\n",
    "- $x$: potentially endogenous variable of interest. \n",
    "- $c$: exogenous control variable.\n",
    "\n",
    "We suspect that $x$ and $u$ are correlated ($x$ is endogenous).\n",
    "$$ Cov(x,u) \\neq 0$\n",
    "\n",
    "We have to make the same **two assumptions**,\n",
    "- (15.5) $z$ is correlated with $x$: $Cov(z,x) \\neq 0$.\n",
    "- (15.4) $z$ is uncorrelated with $u$: $Cov(z,u) = 0$."
   ]
  },
  {
   "cell_type": "markdown",
   "metadata": {
    "slideshow": {
     "slide_type": "slide"
    }
   },
   "source": [
    "## 2SLS IV estimation, first stage\n",
    "\n",
    "First stage:\n",
    "$$ x = \\beta_{0,first} + \\beta_{FS} x + \\beta_{c,first} c + \\upsilon $$\n",
    "- Relevance assumption says that $Cov(z,x) \\neq 0$. We can test this assumption by testing if $\\beta_{FS}$ is significantly different from 0.\n",
    "\n"
   ]
  },
  {
   "cell_type": "markdown",
   "metadata": {
    "slideshow": {
     "slide_type": "slide"
    }
   },
   "source": [
    "## 2SLS IV estimation, second stage\n",
    "\n",
    "We then use the predicted values of $x$ from the first stage instead of $x$ in a regression on $y$.\n",
    "\n",
    "Calculate predicted values of x: \n",
    "$$ \\hat{x} = \\hat{\\beta}_{0,first} + \\hat{\\beta}_{FS} z + \\hat{\\beta}_{c,first} c $$\n",
    "\n",
    "Second stage, regression: \n",
    "$$ y = \\beta_0 + \\beta_{FS} \\hat{x} + \\beta_c c + u $$\n",
    "\n"
   ]
  },
  {
   "cell_type": "markdown",
   "metadata": {
    "slideshow": {
     "slide_type": "slide"
    }
   },
   "source": [
    "## 2SLS IV Estimation\n",
    "\n",
    "- In practice, this procedure is easily implemented with Stata and other statistical software. \n",
    "- The statistical software also computes the correct standard errors. \n",
    "\n",
    "- Note that also in 2SLS estimation:  \n",
    "$$ \\hat{\\beta}_{2SLS} = \\frac{\\text{Reduced Form}}{\\text{First Stage}} = \\frac{\\hat{\\beta}_{RF}}{\\hat{\\beta}_{FS}} $$\n"
   ]
  },
  {
   "cell_type": "markdown",
   "metadata": {
    "slideshow": {
     "slide_type": "slide"
    }
   },
   "source": [
    "## Further points on IVs\n",
    "\n",
    "- If the relevance and exogeneity assumptions hold, the IV estimator is **consistent** but not unbiased.  \n",
    "(see topic 5, where we talked about consistency). \n",
    "\n",
    "- Compared to OLS the IV estimator is less efficient (i.e., it has a larger variance, larger standard errors)\n",
    "\n",
    "- A stronger first stage leads to more efficient IV estimates. "
   ]
  },
  {
   "cell_type": "markdown",
   "metadata": {},
   "source": [
    "### Example 15.4 College proximity as an IV for education\n",
    "\n",
    "- Goal: Estimate the causal effect of education on wages, taking into account the possibility that education is an endogenous.\n",
    "\n",
    "- How: Use a dummy variable for whether someone grew up near a four-year colleage ($nearc4$) as an instrument for education.\n"
   ]
  },
  {
   "cell_type": "markdown",
   "metadata": {},
   "source": [
    "#### First stage\n",
    "\n",
    " <center><img src='Material/Topic9_Fig11.png' width='600' height='120'/></center>\n",
    "\n",
    "- Is the instrument relevant? Is $Cov(educ,nearc4) \\neq 0$? \n",
    "\n",
    "- Yes, college proximity significantly predicts years of education."
   ]
  },
  {
   "cell_type": "markdown",
   "metadata": {
    "slideshow": {
     "slide_type": "slide"
    }
   },
   "source": [
    "#### Reduced form\n",
    "\n",
    "<center><img src='Material/Topic9_Fig12.png' width='600' height='120'/></center>\n",
    "\n",
    "IV estimate of return to education:\n",
    "$$ \\hat{\\beta}_{2SLS} = \\frac{\\hat{\\beta}_{RF}}{\\hat{\\beta}_{FS}} = \\frac{0.156}{0.829} = 0.188 $$"
   ]
  },
  {
   "cell_type": "markdown",
   "metadata": {
    "slideshow": {
     "slide_type": "slide"
    }
   },
   "source": [
    "2SLS IV estimation is very easily implemented using Stata: \n",
    "\n",
    "<center><img src='Material/Topic9_Fig12.png' width='600' height='120'/></center>\n",
    "\n",
    "- Our IV estimate suggests that a one year increase in education leads to approx 19% increase in wage.\n",
    "\n",
    "- Stata automatically estimates the correct standard errors."
   ]
  },
  {
   "cell_type": "markdown",
   "metadata": {
    "slideshow": {
     "slide_type": "slide"
    }
   },
   "source": [
    "#### Is nearc4 exogenous?\n",
    "\n",
    "- Whether we should trust the IV estimates, depends on whether we believe the exogeneity assumption.\n",
    "\n",
    "- Is $Corr(nearc4, u) = 0$? \n",
    "\n",
    "- Maybe people who live close to colleges have characteristics that make them earn more? \n",
    "\n",
    "- No problem if we can control for these factors. "
   ]
  },
  {
   "cell_type": "markdown",
   "metadata": {
    "slideshow": {
     "slide_type": "slide"
    }
   },
   "source": [
    "Estimated return to education: approx. 18%\n",
    "\n",
    " <center><img src='Material/Topic9_Fig14.png' width='600' height='150'/></center>\n",
    "\n",
    "- Also when we include control variables, the 2SLS IV estimator is: $ \\hat{\\beta}_{2SLS} = \\frac{\\hat{\\beta}_{RF}}{\\hat{\\beta}_{FS}} $"
   ]
  },
  {
   "cell_type": "markdown",
   "metadata": {
    "slideshow": {
     "slide_type": "slide"
    }
   },
   "source": [
    "## Interpretation of IV estimates\n",
    "\n",
    "- So far we have (implicitly) assumed that is the same for all individuals. \n",
    "- This is often not realistic.\n",
    " - Is the return to education the same for all people?\n",
    " - Will all students equally benefit from attending KIPP schools?\n",
    "\n"
   ]
  },
  {
   "cell_type": "markdown",
   "metadata": {
    "slideshow": {
     "slide_type": "slide"
    }
   },
   "source": [
    "Let’s go back to the KIPP Lynn example:\n",
    "<center><img src='Material/Topic9_Fig15.png' width='500' height='120'/></center>\n",
    "Monotonicity assumption: instrument influences the endogenous variable only in one direction (in our example: no defiers).\n"
   ]
  },
  {
   "cell_type": "markdown",
   "metadata": {
    "slideshow": {
     "slide_type": "slide"
    }
   },
   "source": [
    "## Local Average Treatment Effect (LATE)\n",
    "\n",
    "- The effect estimated with IV is a Local Average Treatment Effect (LATE). \n",
    "\n",
    "- **Local** = only for those who are moved by the instrument  \n",
    "**Local Average Treatment Effect** = average treatment effect for those who were moved by the instrument (complieres + defiers).\n",
    "\n",
    "- In the KIPP example, this means that IV estimates the average effect of going to KIPP on test scores for kids whose decision to go to KIPP was influenced by the lottery. \n",
    "\n",
    "- This means: causal effect might be different for never-takers and always-takers. "
   ]
  },
  {
   "cell_type": "markdown",
   "metadata": {
    "slideshow": {
     "slide_type": "slide"
    }
   },
   "source": [
    "## Average Treatment Effect (ATE)\n",
    "\n",
    "- Recall: *Monotonicity assumption*: instrument influences the endogenous variable only in one direction (in our example: no defiers).\n",
    "- If the monotonicity assumption holds (no defiers), LATE is the **average treatment effect (ATE)** for compliers.\n"
   ]
  },
  {
   "cell_type": "markdown",
   "metadata": {},
   "source": [
    "#### Who is driving the estimates of return to education?\n",
    "\n",
    "- IV estimates LATEs. \n",
    "- **Local**: Who is moved by the instrument?\n",
    " - People whose decision to go to college is influenced by the distance to college.\n",
    "- Are all of these moved in the same direction? Does the monotonicity assumption hold? \n",
    " - Does college proximity only make people *more and not less* likely to go to college? \n",
    "\n",
    "- If yes, we have estimated of the **average effect** of education on wage for people who went to college because it is close, but wouldn’t have gone otherwise (compliers). \n"
   ]
  },
  {
   "cell_type": "markdown",
   "metadata": {
    "slideshow": {
     "slide_type": "slide"
    }
   },
   "source": [
    "### Summary\n",
    "\n",
    "- Instrumental variable estimation is a powerful and popular tool to get an estimate of a causal effects if $x$ is endogenous. \n",
    "\n",
    "- All we need is an instrumental variable that is correlated with $x$ (relevance assumption) and uncorrelated with $u$ (exogeneity assumption). \n",
    "\n",
    "- We can test the relevance assumption. We have to argue the exogeneity assumption.\n",
    "\n",
    "- IV is less efficient than OLS. \n",
    "- IV estimates are LATEs."
   ]
  },
  {
   "cell_type": "markdown",
   "metadata": {
    "slideshow": {
     "slide_type": "slide"
    }
   },
   "source": [
    "## Review/Other"
   ]
  },
  {
   "cell_type": "markdown",
   "metadata": {
    "slideshow": {
     "slide_type": "slide"
    }
   },
   "source": [
    "## Review IV: 1/2\n",
    "\n",
    "- Instrumental variable (IV) estimation is a powerful tool to estimate causal effects if OLS can’t.\n",
    "\n",
    "- All we need is an instrument $z$ that fulfils two assumptions:\n",
    " - **IV relevance**: $Cov(z,x) \\neq 0$\n",
    " - $z$ should be correlated with $X$.\n",
    "\n",
    "- **IV exogeneity**: $Cov(z,u) = 0$. \n",
    " - $z$ should not be correlated with the error term."
   ]
  },
  {
   "cell_type": "markdown",
   "metadata": {
    "slideshow": {
     "slide_type": "slide"
    }
   },
   "source": [
    "## Review IV: 2/2\n",
    "\n",
    "- We can test the IV relvance by regressing $X$ on $Z$ (first stage).\n",
    "- We cannot test IV exogeneity, but have to think whether it is plausible.\n",
    "- IV estimates are consistent but not unbiased.\n",
    "- IV estimates are less efficient (have a larger variance) than OLS.\n"
   ]
  }
 ],
 "metadata": {
  "celltoolbar": "Slideshow",
  "kernelspec": {
   "display_name": "Julia 1.0.3",
   "language": "julia",
   "name": "julia-1.0"
  },
  "language_info": {
   "file_extension": ".jl",
   "mimetype": "application/julia",
   "name": "julia",
   "version": "1.0.3"
  }
 },
 "nbformat": 4,
 "nbformat_minor": 1
}
