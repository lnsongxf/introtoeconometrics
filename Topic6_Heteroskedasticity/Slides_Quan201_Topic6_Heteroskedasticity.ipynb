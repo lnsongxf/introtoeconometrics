{
 "cells": [
  {
   "cell_type": "code",
   "execution_count": 1,
   "metadata": {
    "slideshow": {
     "slide_type": "skip"
    }
   },
   "outputs": [
    {
     "ename": "LoadError",
     "evalue": "syntax: extra token \"IPython\" after end of expression",
     "output_type": "error",
     "traceback": [
      "syntax: extra token \"IPython\" after end of expression",
      ""
     ]
    }
   ],
   "source": [
    "from IPython.display import HTML\n",
    "HTML('''<script>\n",
    "  function code_toggle() {\n",
    "    if (code_shown){\n",
    "      $('div.input').hide('500');\n",
    "      $('#toggleButton').val('Show Code')\n",
    "    } else {\n",
    "      $('div.input').show('500');\n",
    "      $('#toggleButton').val('Hide Code')\n",
    "    }\n",
    "    code_shown = !code_shown\n",
    "  }\n",
    "\n",
    "  $( document ).ready(function(){\n",
    "    code_shown=false;\n",
    "    $('div.input').hide()\n",
    "  });\n",
    "</script>\n",
    "<form action=\"javascript:code_toggle()\"><input type=\"submit\" id=\"toggleButton\" value=\"Show Code\"></form>''')"
   ]
  },
  {
   "cell_type": "code",
   "execution_count": 6,
   "metadata": {
    "scrolled": true,
    "slideshow": {
     "slide_type": "skip"
    }
   },
   "outputs": [
    {
     "ename": "LoadError",
     "evalue": "syntax: extra token \"as\" after end of expression",
     "output_type": "error",
     "traceback": [
      "syntax: extra token \"as\" after end of expression",
      ""
     ]
    }
   ],
   "source": [
    "#%matplotlib inline\n",
    "import matplotlib.pyplot as plt\n",
    "import matplotlib.mlab as mlab\n",
    "import matplotlib.patches as patches\n",
    "#plt.style.reload_library()\n",
    "#plt.style.use(\"ggplot\")\n",
    "from IPython.display import (\n",
    "    display_pretty, display_html, display_jpeg,\n",
    "    display_png, display_json, display_latex, display_svg\n",
    ")\n",
    "#import numpy as np\n",
    "#import pandas as pd\n",
    "#from pandas_datareader import data, wb\n",
    "#from scipy import linalg, optimize\n",
    "#from datetime import datetime, date, timedelta\n",
    "from IPython.display import Audio\n",
    "from IPython.display import YouTubeVideo\n",
    "from IPython.display import HTML\n",
    "from IPython.display import Latex\n",
    "from IPython.display import Image\n",
    "from IPython.display import display\n",
    "from IPython.display import SVG\n",
    "\n",
    "import Dates\n"
   ]
  },
  {
   "cell_type": "markdown",
   "metadata": {
    "slideshow": {
     "slide_type": "slide"
    }
   },
   "source": [
    "## <center>QUAN201 - Introduction to Econometrics</center>\n",
    "### <center>Topic 6: Heteroskedasticity</center>\n",
    "datetoday = Dates.datetime.today().strftime(\"%m/%d/%Y\")\n",
    "### <center>datetoday</center>"
   ]
  },
  {
   "cell_type": "markdown",
   "metadata": {
    "slideshow": {
     "slide_type": "slide"
    }
   },
   "source": [
    "## Heteroskedasticity\n",
    "- What is heteroskedasticity?\n",
    "- What are it’s consequences?\n",
    "- How can it be diagnosed?\n",
    "- How can it be solved?\n",
    "\n",
    "\n",
    "Reference: Wooldridge, Chapter 8"
   ]
  },
  {
   "cell_type": "markdown",
   "metadata": {
    "slideshow": {
     "slide_type": "slide"
    }
   },
   "source": [
    "### Heteroskedasticity\n",
    "\n",
    "- Recall **Assumption MLR.5**: Homoskedasticity. The error $u$ has the same variance given any value of the explanatory variables: \n",
    "$$ Var(u|x_1,x_2,...,x_k)=\\sigma^2 $$\n",
    "\n",
    "- If this is not the case, there is heteroskedasticity.\n",
    "\n",
    "- What does this mean? "
   ]
  },
  {
   "cell_type": "markdown",
   "metadata": {
    "slideshow": {
     "slide_type": "slide"
    }
   },
   "source": [
    "### Homoskedasticity\n",
    "\n",
    "<center><img src='Material/Topic6_Fig1.png' width='600' height='80'/></center>"
   ]
  },
  {
   "cell_type": "markdown",
   "metadata": {
    "slideshow": {
     "slide_type": "slide"
    }
   },
   "source": [
    "### Heteroskedasticity\n",
    "\n",
    "<center><img src='Material/Topic6_Fig2.png' width='600' height='80'/></center>"
   ]
  },
  {
   "cell_type": "markdown",
   "metadata": {
    "slideshow": {
     "slide_type": "slide"
    }
   },
   "source": [
    "### Homoskedasticity \n",
    "<center><img src='Material/Topic6_Fig3a.png' width='300' height='40'/></center>\n",
    "### Heteroskedasticity\n",
    "<center><img src='Material/Topic6_Fig3b.png' width='300' height='40'/></center>\n",
    "<!--- <center><img src='Material/Topic6_Fig3c.png' width='300' height='40'/></center> -->"
   ]
  },
  {
   "cell_type": "markdown",
   "metadata": {
    "slideshow": {
     "slide_type": "slide"
    }
   },
   "source": [
    "- Consider the following model: \n",
    "$$wage=\\beta_0+\\delta_0 female +u$$\n",
    "\n",
    "- Homoskedasticity means that the variance of the error term $u$ (and in this case the variance of wages) is the same for females and males.\n",
    "\n",
    "- Is this realistic? Discuss.\n",
    "\n",
    "- Let's look at the summary statistics,\n",
    "<center><img src='Material/Topic6_Fig4.png' width='800' height='100'/></center>\n"
   ]
  },
  {
   "cell_type": "markdown",
   "metadata": {
    "slideshow": {
     "slide_type": "slide"
    }
   },
   "source": [
    "### Consequences of Heteroskedasticity for OLS\n",
    "\n",
    "- Heteroskedasticity leads to incorrect inference-\n",
    " - t-statistics, F-statistics, confidence intervals and p-values are no longer valid.\n",
    "- OLS is no longer the most efficient estimator (OLS is no longer BLUE), i.e., there might be other estimators like WLS that are more efficient.\n",
    "- Heteroskedasticity **does not** \n",
    " - cause bias or inconsistency\n",
    " - affect the interpretation of $R^2$\n"
   ]
  },
  {
   "cell_type": "markdown",
   "metadata": {
    "slideshow": {
     "slide_type": "slide"
    }
   },
   "source": [
    "### Diagnosis: Detecting Heteroskedasticity using Breusch-Pagan Test.\n",
    "\n",
    "- Imagine that you estimate the following linear model,\n",
    "$$ y= \\beta_0 + \\beta_1 x_1 + \\beta_2 x_2 + ...+ \\beta_k x_k + u $$\n",
    "where all the other CLM assumptions hold. Most importantly the assumption that $E[u|\\textbf{x}]=0$ holds implying that the OLS is unbiased and consistent ($\\textbf{x}=<x_1,x_2,...,x_k>$).\n",
    "- The null hypothesis,\n",
    "$$ H_0: \\, Var(u|\\textbf{x})=E[u^2|\\textbf{x}]=\\sigma^2$$\n",
    "says that the error variance is constant, i.e., homoskedastic.  \n",
    "[Note: $Var(u|\\textbf{x})=E[u^2|\\textbf{x}]$ is not generally true, but here follows from $E[u|\\textbf{x}]=0$.] \n",
    "- The idea of the Breusch-Pagan test is to examine whether $u^2$ (the variance of the error) is related to one or more variables:\n",
    "$$ u^2=\\delta_0 + \\delta_1 x_1 + \\delta_2 x_2 +...+\\delta_k x_k + \\upsilon $$ \n"
   ]
  },
  {
   "cell_type": "markdown",
   "metadata": {
    "slideshow": {
     "slide_type": "slide"
    }
   },
   "source": [
    "- Then the null hypothesis $ H_0: \\, Var(u|\\textbf{x})=E[u^2|\\textbf{x}]=\\sigma^2$ suggests using,\n",
    "$$ H_0: \\delta_1 = \\delta_2 = ...=\\delta_k=0$$\n",
    "- This means that the independent variables are not (linearly) related to the variance of error term $u$.\n",
    "- The main issue is that it is impossible to know the error terms $u$.\n",
    "- How can we obtain estimates for the error term to test this hypothesis? We use the OLS residuals $\\hat{u}^2$ as estimates of the error term. The equation then becomes\n",
    "$$ \\hat{u}^2 = \\delta_0 + \\delta_1 x_1 + \\delta_2 x_2 +...+\\delta_k x_k + \\upsilon $$\n",
    "- We can estimate this equation and test $H_0$ with an F-test. If the F-test rejects $H_0$ we have evidence for heteroskedasticity."
   ]
  },
  {
   "cell_type": "markdown",
   "metadata": {
    "slideshow": {
     "slide_type": "slide"
    }
   },
   "source": [
    "### Steps of the Breusch-Pagan Test\n",
    "1. Estimate the original model.  \n",
    "2. Obtain the residuals, and calculate their squares.  \n",
    "3. Run a regression with the squared residuals as dependent variable and the same explanatory variables as in the original model as independent variables.  \n",
    "4. Run an F-test of joint significance of all explanatory variables for this regression: \n",
    " - If the p-value is larger than the critical value: we don’t reject the null hypothesis of homoskedasticity \n",
    " - If the p-value is smaller than the critical value: we have evidence for heteroskedasticity. "
   ]
  },
  {
   "cell_type": "markdown",
   "metadata": {
    "slideshow": {
     "slide_type": "slide"
    }
   },
   "source": [
    "## Solution: Heteroskedasticity robust inference\n",
    "\n",
    "- We can use heteroskedasticity robust standard errors, t-statistics, f-statistics, confidence intervals and p-values. \n",
    "- These lead to valid inference in the presence of **heteroskedasticiy of unknown form**. \n",
    "\n"
   ]
  },
  {
   "cell_type": "markdown",
   "metadata": {
    "slideshow": {
     "slide_type": "slide"
    }
   },
   "source": [
    "#### Heteroskedasticity robust estimator of $Var(\\beta_j)$\n",
    "\n",
    "$$ \\widehat{Var(\\beta_j)} = \\frac{\\sum_{i=1}^n \\hat{r}_{ij}^2 \\hat{u}_{ij}^2 }{SSR_j^2} $$\n",
    "where,\n",
    "- $\\hat{r}_{ij}$ is the residual for person $i$ from a regression of $x_j$ on all the other independent variables.\n",
    "- $SSR_j$ is the sum of squared residuals from same regression of $x_j$ on all the other independent variables."
   ]
  },
  {
   "cell_type": "markdown",
   "metadata": {
    "slideshow": {
     "slide_type": "slide"
    }
   },
   "source": [
    "### In Stata\n",
    "\n",
    "- Heteroskedasticity robust inference is very easy to implement and now standard in applied economics.\n",
    " - In Stata, simply add \",robust\" to the OLS command.\n",
    " <center><img src='Material/Topic6_Fig5.png' width='900' height='50'/></center>\n",
    "- Note that the robust test statistics are only asymptotically valid. That means that in small samples, the normal test statistics are preferred in the absence of heteroskedasticity."
   ]
  },
  {
   "cell_type": "markdown",
   "metadata": {
    "slideshow": {
     "slide_type": "slide"
    }
   },
   "source": [
    " <center><img src='Material/Topic6_Fig6.png' width='300' height='80'/></center>"
   ]
  },
  {
   "cell_type": "markdown",
   "metadata": {
    "slideshow": {
     "slide_type": "slide"
    }
   },
   "source": [
    "Is this heteroskedasticity? Or homoskedasticy?\n",
    "<center><img src='Material/Topic6_Fig3c.png' width='300' height='40'/></center>\n",
    "Could Breusch-Pagan test answer this?"
   ]
  },
  {
   "cell_type": "markdown",
   "metadata": {
    "slideshow": {
     "slide_type": "slide"
    }
   },
   "source": [
    "### Further topics on Heterogeneity (not examinable)\n",
    "- The White test for heteroskedasticiy has the same setup as the Breusch-Pagan test but adds some flexibility by also testing whether the squared residulas are related to the squared terms and cross products of the independent variables.\n",
    " <center><img src='Material/Topic6_Fig7.png' width='700' height='30'/></center>\n",
    "- In the rare case that we know the variance of the error term we can estimate the regression using Weighted Least Squares (WLS). Under heteroskedasticity WLS is more efficient than OLS."
   ]
  }
 ],
 "metadata": {
  "celltoolbar": "Slideshow",
  "kernelspec": {
   "display_name": "Julia 1.0.3",
   "language": "julia",
   "name": "julia-1.0"
  },
  "language_info": {
   "file_extension": ".jl",
   "mimetype": "application/julia",
   "name": "julia",
   "version": "1.0.3"
  }
 },
 "nbformat": 4,
 "nbformat_minor": 1
}
